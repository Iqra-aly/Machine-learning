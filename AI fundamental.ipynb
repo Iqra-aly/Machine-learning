{
 "cells": [
  {
   "cell_type": "code",
   "execution_count": 1,
   "id": "8090ffa3-2d7b-459e-a448-0fcc693027d0",
   "metadata": {},
   "outputs": [
    {
     "name": "stdout",
     "output_type": "stream",
     "text": [
      "[(array([1, 2]), array([1, 1])), (array([3, 4]), array([1, 1])), (array([5, 6]), array([7, 8]))]\n"
     ]
    }
   ],
   "source": [
    "import numpy as np\n",
    "\n",
    "def calculate_distance(point1, point2, norm):\n",
    "    if norm == 1:\n",
    "        return np.sum(np.abs(point1 - point2))\n",
    "    elif norm == 2:  \n",
    "        return np.linalg.norm(point1 - point2)\n",
    "    elif norm == 'co':\n",
    "        cos_sim = np.dot(point1, point2) / (np.linalg.norm(point1) * np.linalg.norm(point2))\n",
    "        return 1 - cos_sim\n",
    "    else:\n",
    "        raise ValueError(\"Norm identifier must be 1, 2, or 'co'\")\n",
    "\n",
    "def find_nearest_points(array1, array2, norm=2):\n",
    "    nearest_pairs = []\n",
    "    for point1 in array1:\n",
    "        min_distance = float('inf')\n",
    "        nearest_point = None\n",
    "        for point2 in array2:\n",
    "            distance = calculate_distance(point1,point2, norm)\n",
    "            if distance < min_distance:\n",
    "                min_distance = distance\n",
    "                nearest_point = point2\n",
    "        nearest_pairs.append((point1, nearest_point))\n",
    "    return nearest_pairs\n",
    "\n",
    "# Example usage\n",
    "array1 = np.array([[1, 2], [3, 4], [5, 6]])\n",
    "array2 = np.array([[7, 8], [9, 10], [1, 1]])\n",
    "\n",
    "norm = 2\n",
    "nearest_pairs = find_nearest_points(array1, array2, norm)\n",
    "print(nearest_pairs)"
   ]
  },
  {
   "cell_type": "code",
   "execution_count": null,
   "id": "a5e2edd0-0f0b-4ed7-a8de-ed5cad1b8fcc",
   "metadata": {},
   "outputs": [],
   "source": []
  },
  {
   "cell_type": "code",
   "execution_count": null,
   "id": "37295fb8-8314-4c34-a31a-fc611a854c0a",
   "metadata": {},
   "outputs": [],
   "source": []
  },
  {
   "cell_type": "code",
   "execution_count": null,
   "id": "11782d6f-b030-4696-9ccb-5ea13f9ef849",
   "metadata": {},
   "outputs": [],
   "source": []
  }
 ],
 "metadata": {
  "kernelspec": {
   "display_name": "Python 3 (ipykernel)",
   "language": "python",
   "name": "python3"
  },
  "language_info": {
   "codemirror_mode": {
    "name": "ipython",
    "version": 3
   },
   "file_extension": ".py",
   "mimetype": "text/x-python",
   "name": "python",
   "nbconvert_exporter": "python",
   "pygments_lexer": "ipython3",
   "version": "3.12.4"
  }
 },
 "nbformat": 4,
 "nbformat_minor": 5
}
